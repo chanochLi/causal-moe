{
 "cells": [
  {
   "cell_type": "code",
   "execution_count": 7,
   "metadata": {},
   "outputs": [
    {
     "name": "stdout",
     "output_type": "stream",
     "text": [
      "dict_keys(['__header__', '__version__', '__globals__', 'data', 'label', 'snr'])\n",
      "(220000, 2, 128)\n",
      "torch.Size([220000])\n",
      "(1, 220000)\n"
     ]
    }
   ],
   "source": [
    "from scipy.io import loadmat\n",
    "import torch\n",
    "\n",
    "data = loadmat('../data/RML2016.10a.mat')\n",
    "\n",
    "print(data.keys())\n",
    "\n",
    "print(data['data'].shape)\n",
    "print(torch.from_numpy(data['label']).squeeze().t().long().shape)\n",
    "print(data['snr'].shape)"
   ]
  },
  {
   "cell_type": "code",
   "execution_count": null,
   "metadata": {},
   "outputs": [],
   "source": []
  }
 ],
 "metadata": {
  "kernelspec": {
   "display_name": ".venv",
   "language": "python",
   "name": "python3"
  },
  "language_info": {
   "codemirror_mode": {
    "name": "ipython",
    "version": 3
   },
   "file_extension": ".py",
   "mimetype": "text/x-python",
   "name": "python",
   "nbconvert_exporter": "python",
   "pygments_lexer": "ipython3",
   "version": "3.10.18"
  }
 },
 "nbformat": 4,
 "nbformat_minor": 2
}
