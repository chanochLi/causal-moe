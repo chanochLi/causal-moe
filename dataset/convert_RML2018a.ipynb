{
 "cells": [
  {
   "cell_type": "code",
   "execution_count": 1,
   "metadata": {},
   "outputs": [],
   "source": [
    "# read origin data\n",
    "import h5py\n",
    "import numpy as np\n",
    "\n",
    "file = h5py.File('/Users/chanoch/Documents/project/causal-moe/data/origin_data/rml2018a/GOLD_XYZ_OSC.0001_1024.hdf5', 'r')"
   ]
  },
  {
   "cell_type": "code",
   "execution_count": 2,
   "metadata": {},
   "outputs": [],
   "source": [
    "output_data = []\n",
    "output_label = []\n",
    "output_snr = []"
   ]
  },
  {
   "cell_type": "code",
   "execution_count": 3,
   "metadata": {},
   "outputs": [],
   "source": [
    "for index, (data_piece, label_piece, snr_piece) in enumerate(zip(file['X'], file['Y'], file['Z'])):\n",
    "    np_data = np.array(data_piece).T\n",
    "    np_label = np.argmax(label_piece)\n",
    "    np_snr = snr_piece\n",
    "\n",
    "    output_data.append(np_data)\n",
    "    output_label.append(np_label)\n",
    "    output_snr.append(np_snr)"
   ]
  },
  {
   "cell_type": "code",
   "execution_count": 4,
   "metadata": {},
   "outputs": [],
   "source": [
    "del file"
   ]
  },
  {
   "cell_type": "code",
   "execution_count": null,
   "metadata": {},
   "outputs": [],
   "source": [
    "output_data = np.array(output_data).astype(np.float32)\n",
    "output_label = np.array(output_label).astype(np.int32)\n",
    "output_snr = np.array(output_snr).astype(np.int32)"
   ]
  },
  {
   "cell_type": "code",
   "execution_count": null,
   "metadata": {},
   "outputs": [],
   "source": [
    "import scipy.io as sio\n",
    "\n",
    "sio.savemat('/Users/chanoch/Documents/project/causal-moe/data/RML2018.10a.mat', {'data': output_data, 'label': output_label, 'snr': output_snr})"
   ]
  },
  {
   "cell_type": "code",
   "execution_count": null,
   "metadata": {},
   "outputs": [],
   "source": []
  }
 ],
 "metadata": {
  "kernelspec": {
   "display_name": ".venv",
   "language": "python",
   "name": "python3"
  },
  "language_info": {
   "codemirror_mode": {
    "name": "ipython",
    "version": 3
   },
   "file_extension": ".py",
   "mimetype": "text/x-python",
   "name": "python",
   "nbconvert_exporter": "python",
   "pygments_lexer": "ipython3",
   "version": "3.10.18"
  }
 },
 "nbformat": 4,
 "nbformat_minor": 2
}
