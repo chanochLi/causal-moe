{
 "cells": [
  {
   "cell_type": "code",
   "execution_count": 1,
   "metadata": {},
   "outputs": [],
   "source": [
    "# read RML2016.10b.dat\n",
    "import pickle\n",
    "\n",
    "with open('/Users/chanoch/Documents/project/causal-moe/data/RML2016.10b.dat', 'rb') as f:\n",
    "    dat_file = pickle.load(f, encoding='latin1')"
   ]
  },
  {
   "cell_type": "code",
   "execution_count": 2,
   "metadata": {},
   "outputs": [],
   "source": [
    "# classes = set()\n",
    "# for name , snr in dat_file.keys():\n",
    "#     classes.add(name)\n",
    "# classes = list(classes)\n",
    "# print(classes)\n",
    "classes = ['8PSK', 'BPSK', 'CPFSK', 'GFSK', 'PAM4', 'AM-DSB', 'QAM16', 'QAM64', 'QPSK', 'WBFM']"
   ]
  },
  {
   "cell_type": "code",
   "execution_count": 3,
   "metadata": {},
   "outputs": [],
   "source": [
    "data = list()\n",
    "labels = list()\n",
    "snrs = list()"
   ]
  },
  {
   "cell_type": "code",
   "execution_count": 4,
   "metadata": {},
   "outputs": [],
   "source": [
    "for class_name, snr in dat_file.keys():\n",
    "    for signals in dat_file[(class_name, snr)]:\n",
    "        data.append(signals)\n",
    "        labels.append(classes.index(class_name))\n",
    "        snrs.append(snr)"
   ]
  },
  {
   "cell_type": "code",
   "execution_count": 6,
   "metadata": {},
   "outputs": [],
   "source": [
    "import scipy.io as sio\n",
    "\n",
    "sio.savemat('/Users/chanoch/Documents/project/causal-moe/data/RML2016.10b.mat', {'data': data, 'label': labels, 'snr': snrs})"
   ]
  }
 ],
 "metadata": {
  "kernelspec": {
   "display_name": ".venv",
   "language": "python",
   "name": "python3"
  },
  "language_info": {
   "codemirror_mode": {
    "name": "ipython",
    "version": 3
   },
   "file_extension": ".py",
   "mimetype": "text/x-python",
   "name": "python",
   "nbconvert_exporter": "python",
   "pygments_lexer": "ipython3",
   "version": "3.10.18"
  }
 },
 "nbformat": 4,
 "nbformat_minor": 2
}
